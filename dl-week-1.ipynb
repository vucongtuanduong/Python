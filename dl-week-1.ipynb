{
 "cells": [
  {
   "cell_type": "code",
   "execution_count": 1,
   "id": "bd657872",
   "metadata": {
    "_cell_guid": "b1076dfc-b9ad-4769-8c92-a6c4dae69d19",
    "_uuid": "8f2839f25d086af736a60e9eeb907d3b93b6e0e5",
    "execution": {
     "iopub.execute_input": "2023-09-09T04:41:07.777376Z",
     "iopub.status.busy": "2023-09-09T04:41:07.777050Z",
     "iopub.status.idle": "2023-09-09T04:41:08.068888Z",
     "shell.execute_reply": "2023-09-09T04:41:08.067311Z"
    },
    "papermill": {
     "duration": 0.300864,
     "end_time": "2023-09-09T04:41:08.071414",
     "exception": false,
     "start_time": "2023-09-09T04:41:07.770550",
     "status": "completed"
    },
    "tags": []
   },
   "outputs": [],
   "source": [
    "# This Python 3 environment comes with many helpful analytics libraries installed\n",
    "# It is defined by the kaggle/python Docker image: https://github.com/kaggle/docker-python\n",
    "# For example, here's several helpful packages to load\n",
    "\n",
    "import numpy as np # linear algebra\n",
    "import pandas as pd # data processing, CSV file I/O (e.g. pd.read_csv)\n",
    "\n",
    "# Input data files are available in the read-only \"../input/\" directory\n",
    "# For example, running this (by clicking run or pressing Shift+Enter) will list all files under the input directory\n",
    "\n",
    "import os\n",
    "for dirname, _, filenames in os.walk('/kaggle/input'):\n",
    "    for filename in filenames:\n",
    "        print(os.path.join(dirname, filename))\n",
    "\n",
    "# You can write up to 20GB to the current directory (/kaggle/working/) that gets preserved as output when you create a version using \"Save & Run All\" \n",
    "# You can also write temporary files to /kaggle/temp/, but they won't be saved outside of the current session"
   ]
  },
  {
   "cell_type": "markdown",
   "id": "322b66c7",
   "metadata": {
    "papermill": {
     "duration": 0.004033,
     "end_time": "2023-09-09T04:41:08.080213",
     "exception": false,
     "start_time": "2023-09-09T04:41:08.076180",
     "status": "completed"
    },
    "tags": []
   },
   "source": [
    "broadcasting in python\n"
   ]
  },
  {
   "cell_type": "code",
   "execution_count": 2,
   "id": "1ffb6617",
   "metadata": {
    "execution": {
     "iopub.execute_input": "2023-09-09T04:41:08.090450Z",
     "iopub.status.busy": "2023-09-09T04:41:08.089941Z",
     "iopub.status.idle": "2023-09-09T04:41:08.095794Z",
     "shell.execute_reply": "2023-09-09T04:41:08.094312Z"
    },
    "papermill": {
     "duration": 0.013955,
     "end_time": "2023-09-09T04:41:08.098269",
     "exception": false,
     "start_time": "2023-09-09T04:41:08.084314",
     "status": "completed"
    },
    "tags": []
   },
   "outputs": [],
   "source": [
    "import numpy as np\n",
    "a = np.random.randn(5)"
   ]
  },
  {
   "cell_type": "code",
   "execution_count": 3,
   "id": "d9a854e7",
   "metadata": {
    "execution": {
     "iopub.execute_input": "2023-09-09T04:41:08.108948Z",
     "iopub.status.busy": "2023-09-09T04:41:08.108097Z",
     "iopub.status.idle": "2023-09-09T04:41:08.114659Z",
     "shell.execute_reply": "2023-09-09T04:41:08.113708Z"
    },
    "papermill": {
     "duration": 0.013854,
     "end_time": "2023-09-09T04:41:08.116614",
     "exception": false,
     "start_time": "2023-09-09T04:41:08.102760",
     "status": "completed"
    },
    "tags": []
   },
   "outputs": [
    {
     "name": "stdout",
     "output_type": "stream",
     "text": [
      "[-0.2501171   0.33417434 -0.40167316 -0.31586873 -0.95625708]\n"
     ]
    }
   ],
   "source": [
    "print(a)"
   ]
  },
  {
   "cell_type": "code",
   "execution_count": 4,
   "id": "0f6467a5",
   "metadata": {
    "execution": {
     "iopub.execute_input": "2023-09-09T04:41:08.126556Z",
     "iopub.status.busy": "2023-09-09T04:41:08.126122Z",
     "iopub.status.idle": "2023-09-09T04:41:08.130063Z",
     "shell.execute_reply": "2023-09-09T04:41:08.129311Z"
    },
    "papermill": {
     "duration": 0.011497,
     "end_time": "2023-09-09T04:41:08.132654",
     "exception": false,
     "start_time": "2023-09-09T04:41:08.121157",
     "status": "completed"
    },
    "tags": []
   },
   "outputs": [
    {
     "name": "stdout",
     "output_type": "stream",
     "text": [
      "(5,)\n"
     ]
    }
   ],
   "source": [
    "print(a.shape)"
   ]
  },
  {
   "cell_type": "code",
   "execution_count": 5,
   "id": "45670ebe",
   "metadata": {
    "execution": {
     "iopub.execute_input": "2023-09-09T04:41:08.143124Z",
     "iopub.status.busy": "2023-09-09T04:41:08.142680Z",
     "iopub.status.idle": "2023-09-09T04:41:08.147469Z",
     "shell.execute_reply": "2023-09-09T04:41:08.146494Z"
    },
    "papermill": {
     "duration": 0.012233,
     "end_time": "2023-09-09T04:41:08.149840",
     "exception": false,
     "start_time": "2023-09-09T04:41:08.137607",
     "status": "completed"
    },
    "tags": []
   },
   "outputs": [
    {
     "name": "stdout",
     "output_type": "stream",
     "text": [
      "[-0.2501171   0.33417434 -0.40167316 -0.31586873 -0.95625708]\n"
     ]
    }
   ],
   "source": [
    "print(a.T)"
   ]
  },
  {
   "cell_type": "code",
   "execution_count": 6,
   "id": "2f9a5b53",
   "metadata": {
    "execution": {
     "iopub.execute_input": "2023-09-09T04:41:08.160060Z",
     "iopub.status.busy": "2023-09-09T04:41:08.159783Z",
     "iopub.status.idle": "2023-09-09T04:41:08.164951Z",
     "shell.execute_reply": "2023-09-09T04:41:08.163904Z"
    },
    "papermill": {
     "duration": 0.012541,
     "end_time": "2023-09-09T04:41:08.167160",
     "exception": false,
     "start_time": "2023-09-09T04:41:08.154619",
     "status": "completed"
    },
    "tags": []
   },
   "outputs": [
    {
     "name": "stdout",
     "output_type": "stream",
     "text": [
      "1.3497730316824599\n"
     ]
    }
   ],
   "source": [
    "print(np.dot(a, a.T))"
   ]
  },
  {
   "cell_type": "code",
   "execution_count": 7,
   "id": "421cbb21",
   "metadata": {
    "execution": {
     "iopub.execute_input": "2023-09-09T04:41:08.178181Z",
     "iopub.status.busy": "2023-09-09T04:41:08.177848Z",
     "iopub.status.idle": "2023-09-09T04:41:08.182437Z",
     "shell.execute_reply": "2023-09-09T04:41:08.181388Z"
    },
    "papermill": {
     "duration": 0.01225,
     "end_time": "2023-09-09T04:41:08.184300",
     "exception": false,
     "start_time": "2023-09-09T04:41:08.172050",
     "status": "completed"
    },
    "tags": []
   },
   "outputs": [],
   "source": [
    "a = np.random.randn(5,1)"
   ]
  },
  {
   "cell_type": "code",
   "execution_count": 8,
   "id": "7e39f5b2",
   "metadata": {
    "execution": {
     "iopub.execute_input": "2023-09-09T04:41:08.194465Z",
     "iopub.status.busy": "2023-09-09T04:41:08.194172Z",
     "iopub.status.idle": "2023-09-09T04:41:08.199826Z",
     "shell.execute_reply": "2023-09-09T04:41:08.198594Z"
    },
    "papermill": {
     "duration": 0.012885,
     "end_time": "2023-09-09T04:41:08.201579",
     "exception": false,
     "start_time": "2023-09-09T04:41:08.188694",
     "status": "completed"
    },
    "tags": []
   },
   "outputs": [
    {
     "name": "stdout",
     "output_type": "stream",
     "text": [
      "[[ 0.7833247 ]\n",
      " [-1.60307173]\n",
      " [-0.30029457]\n",
      " [-0.77933974]\n",
      " [-0.2977246 ]]\n"
     ]
    }
   ],
   "source": [
    "print(a)"
   ]
  },
  {
   "cell_type": "code",
   "execution_count": 9,
   "id": "e98095d8",
   "metadata": {
    "execution": {
     "iopub.execute_input": "2023-09-09T04:41:08.212721Z",
     "iopub.status.busy": "2023-09-09T04:41:08.212172Z",
     "iopub.status.idle": "2023-09-09T04:41:08.216772Z",
     "shell.execute_reply": "2023-09-09T04:41:08.215931Z"
    },
    "papermill": {
     "duration": 0.012042,
     "end_time": "2023-09-09T04:41:08.218515",
     "exception": false,
     "start_time": "2023-09-09T04:41:08.206473",
     "status": "completed"
    },
    "tags": []
   },
   "outputs": [
    {
     "name": "stdout",
     "output_type": "stream",
     "text": [
      "[[ 0.7833247  -1.60307173 -0.30029457 -0.77933974 -0.2977246 ]]\n"
     ]
    }
   ],
   "source": [
    "print(a.T)"
   ]
  },
  {
   "cell_type": "code",
   "execution_count": 10,
   "id": "25ff95a9",
   "metadata": {
    "execution": {
     "iopub.execute_input": "2023-09-09T04:41:08.229519Z",
     "iopub.status.busy": "2023-09-09T04:41:08.229061Z",
     "iopub.status.idle": "2023-09-09T04:41:08.238309Z",
     "shell.execute_reply": "2023-09-09T04:41:08.237422Z"
    },
    "papermill": {
     "duration": 0.017351,
     "end_time": "2023-09-09T04:41:08.240652",
     "exception": false,
     "start_time": "2023-09-09T04:41:08.223301",
     "status": "completed"
    },
    "tags": []
   },
   "outputs": [
    {
     "name": "stdout",
     "output_type": "stream",
     "text": [
      "[[ 0.61359759 -1.25572569 -0.23522816 -0.61047607 -0.23321503]\n",
      " [-1.25572569  2.56983898  0.48139374  1.24933751  0.47727388]\n",
      " [-0.23522816  0.48139374  0.09017683  0.2340315   0.08940508]\n",
      " [-0.61047607  1.24933751  0.2340315   0.60737044  0.23202861]\n",
      " [-0.23321503  0.47727388  0.08940508  0.23202861  0.08863994]]\n"
     ]
    }
   ],
   "source": [
    "print(np.dot(a, a.T))"
   ]
  },
  {
   "cell_type": "code",
   "execution_count": 11,
   "id": "4d874ee6",
   "metadata": {
    "execution": {
     "iopub.execute_input": "2023-09-09T04:41:08.252085Z",
     "iopub.status.busy": "2023-09-09T04:41:08.251715Z",
     "iopub.status.idle": "2023-09-09T04:41:08.256624Z",
     "shell.execute_reply": "2023-09-09T04:41:08.255815Z"
    },
    "papermill": {
     "duration": 0.012661,
     "end_time": "2023-09-09T04:41:08.258347",
     "exception": false,
     "start_time": "2023-09-09T04:41:08.245686",
     "status": "completed"
    },
    "tags": []
   },
   "outputs": [
    {
     "name": "stdout",
     "output_type": "stream",
     "text": [
      "(4, 3)\n"
     ]
    }
   ],
   "source": [
    "a = np.random.randn(4,3)\n",
    "b = np.random.randn(1,3)\n",
    "c = a *b\n",
    "\n",
    "        \n",
    "print(c.shape)\n"
   ]
  },
  {
   "cell_type": "code",
   "execution_count": null,
   "id": "9b81893d",
   "metadata": {
    "papermill": {
     "duration": 0.004371,
     "end_time": "2023-09-09T04:41:08.267680",
     "exception": false,
     "start_time": "2023-09-09T04:41:08.263309",
     "status": "completed"
    },
    "tags": []
   },
   "outputs": [],
   "source": []
  }
 ],
 "kernelspec": {
  "display_name": "Python 3",
  "language": "python",
  "name": "python3"
 },
 "language_info": {
  "codemirror_mode": {
   "name": "ipython",
   "version": 3
  },
  "file_extension": ".py",
  "mimetype": "text/x-python",
  "name": "python",
  "nbconvert_exporter": "python",
  "pygments_lexer": "ipython3",
  "version": "3.6.4"
 },
 "metadata": {
  "kernelspec": {
   "display_name": "Python 3",
   "language": "python",
   "name": "python3"
  },
  "language_info": {
   "codemirror_mode": {
    "name": "ipython",
    "version": 3
   },
   "file_extension": ".py",
   "mimetype": "text/x-python",
   "name": "python",
   "nbconvert_exporter": "python",
   "pygments_lexer": "ipython3",
   "version": "3.10.12"
  },
  "papermill": {
   "default_parameters": {},
   "duration": 3.470713,
   "end_time": "2023-09-09T04:41:08.591782",
   "environment_variables": {},
   "exception": null,
   "input_path": "__notebook__.ipynb",
   "output_path": "__notebook__.ipynb",
   "parameters": {},
   "start_time": "2023-09-09T04:41:05.121069",
   "version": "2.4.0"
  }
 },
 "nbformat": 4,
 "nbformat_minor": 5
}
